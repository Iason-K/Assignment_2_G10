{
 "cells": [
  {
   "cell_type": "code",
   "execution_count": 31,
   "id": "cc2a6ba9-6947-4caa-b60b-badc8f51dc46",
   "metadata": {},
   "outputs": [
    {
     "name": "stdout",
     "output_type": "stream",
     "text": [
      "+-----------------+-------+----+-----+--------------+\n",
      "|           Player| Nation| Age|  Pos|         Squad|\n",
      "+-----------------+-------+----+-----+--------------+\n",
      "|       Max Aarons|eng ENG|23.0|   DF|   Bournemouth|\n",
      "| Brenden Aaronson| us USA|22.0|MF,FW|  Union Berlin|\n",
      "|  Paxten Aaronson| us USA|19.0|   MF|Eint Frankfurt|\n",
      "|Keyliane Abdallah| fr FRA|17.0|   FW|     Marseille|\n",
      "| Yunis Abdelhamid| ma MAR|35.0|   DF|         Reims|\n",
      "+-----------------+-------+----+-----+--------------+\n",
      "only showing top 5 rows\n",
      "\n",
      "+--------------+------------------+\n",
      "|         Squad|              Comp|\n",
      "+--------------+------------------+\n",
      "|   Bournemouth|eng Premier League|\n",
      "|  Union Berlin|     de Bundesliga|\n",
      "|Eint Frankfurt|     de Bundesliga|\n",
      "|     Marseille|        fr Ligue 1|\n",
      "|         Reims|        fr Ligue 1|\n",
      "+--------------+------------------+\n",
      "only showing top 5 rows\n",
      "\n",
      "+-----------------+--------------+---+------+----+---+---+---+---+---+\n",
      "|           Player|         Squad| MP|Starts| Min|Gls|Ast|G+A| xG|xAG|\n",
      "+-----------------+--------------+---+------+----+---+---+---+---+---+\n",
      "|       Max Aarons|   Bournemouth| 20|    13|1237|  0|  1|  1|0.0|0.8|\n",
      "| Brenden Aaronson|  Union Berlin| 30|    14|1267|  2|  2|  4|2.0|1.9|\n",
      "|  Paxten Aaronson|Eint Frankfurt|  7|     1| 101|  0|  1|  1|0.1|0.1|\n",
      "|Keyliane Abdallah|     Marseille|  1|     0|   4|  0|  0|  0|0.0|0.0|\n",
      "| Yunis Abdelhamid|         Reims| 31|    31|2781|  4|  0|  4|3.4|0.3|\n",
      "+-----------------+--------------+---+------+----+---+---+---+---+---+\n",
      "only showing top 5 rows\n",
      "\n"
     ]
    }
   ],
   "source": [
    "from pyspark.sql import SparkSession\n",
    "from pyspark import SparkConf\n",
    "from pyspark.sql.functions import col, sum, rank, avg, row_number\n",
    "from pyspark.sql.window import Window\n",
    "from pyspark.sql.functions import regexp_replace\n",
    "\n",
    "# Spark Configuration\n",
    "sparkConf = SparkConf()\n",
    "sparkConf.setMaster(\"spark://spark-master:7077\")\n",
    "sparkConf.setAppName(\"Top_Attacking_Teams_Pipeline\")\n",
    "sparkConf.set(\"spark.driver.memory\", \"2g\")\n",
    "sparkConf.set(\"spark.executor.cores\", \"1\")\n",
    "sparkConf.set(\"spark.driver.cores\", \"1\")\n",
    "\n",
    "# Create the Spark session\n",
    "spark = SparkSession.builder.config(conf=sparkConf).getOrCreate()\n",
    "\n",
    "# Setup Hadoop configuration for GCS\n",
    "conf = spark.sparkContext._jsc.hadoopConfiguration()\n",
    "conf.set(\"fs.gs.impl\", \"com.google.cloud.hadoop.fs.gcs.GoogleHadoopFileSystem\")\n",
    "conf.set(\"fs.AbstractFileSystem.gs.impl\", \"com.google.cloud.hadoop.fs.gcs.GoogleHadoopFS\")\n",
    "\n",
    "# Load tables into DataFrames\n",
    "playersDF = spark.read.format(\"csv\").option(\"header\", \"true\") \\\n",
    "    .load(\"gs://data_assignment2/players_table.csv\")\n",
    "teamsDF = spark.read.format(\"csv\").option(\"header\", \"true\") \\\n",
    "    .load(\"gs://data_assignment2/teams_table.csv\")\n",
    "performanceDF = spark.read.format(\"csv\").option(\"header\", \"true\") \\\n",
    "    .load(\"gs://data_assignment2/player_performance_table.csv\")\n",
    "\n",
    "# Display initial data\n",
    "playersDF.show(5)\n",
    "teamsDF.show(5)\n",
    "performanceDF.show(5)"
   ]
  },
  {
   "cell_type": "code",
   "execution_count": 32,
   "id": "03c12c69-a8be-490a-9ae6-5f4dc8bcef20",
   "metadata": {},
   "outputs": [
    {
     "name": "stdout",
     "output_type": "stream",
     "text": [
      "+--------------+--------------+\n",
      "|         Squad|          Comp|\n",
      "+--------------+--------------+\n",
      "|   Bournemouth|Premier League|\n",
      "|  Union Berlin|    Bundesliga|\n",
      "|Eint Frankfurt|    Bundesliga|\n",
      "|     Marseille|       Ligue 1|\n",
      "|         Reims|       Ligue 1|\n",
      "+--------------+--------------+\n",
      "only showing top 5 rows\n",
      "\n"
     ]
    }
   ],
   "source": [
    "#fix the names of the competition\n",
    "teamsDF = teamsDF.withColumn(\"Comp\", regexp_replace(col(\"Comp\"), r\"^\\w+\\s\", \"\"))\n",
    "teamsDF.show(5)"
   ]
  },
  {
   "cell_type": "code",
   "execution_count": 33,
   "id": "42c48326-0126-4e2a-bbba-0bb159007919",
   "metadata": {},
   "outputs": [
    {
     "data": {
      "text/plain": [
       "[Row(Player='Max Aarons', Squad='Bournemouth', Gls=0),\n",
       " Row(Player='Brenden Aaronson', Squad='Union Berlin', Gls=2),\n",
       " Row(Player='Paxten Aaronson', Squad='Eint Frankfurt', Gls=0),\n",
       " Row(Player='Keyliane Abdallah', Squad='Marseille', Gls=0),\n",
       " Row(Player='Yunis Abdelhamid', Squad='Reims', Gls=4),\n",
       " Row(Player='Salis Abdul Samed', Squad='Lens', Gls=0),\n",
       " Row(Player='Nabil Aberdin', Squad='Getafe', Gls=0),\n",
       " Row(Player='Laurent Abergel', Squad='Lorient', Gls=2),\n",
       " Row(Player='Matthis Abline', Squad='Nantes', Gls=5),\n",
       " Row(Player='Abner', Squad='Betis', Gls=0)]"
      ]
     },
     "execution_count": 33,
     "metadata": {},
     "output_type": "execute_result"
    }
   ],
   "source": [
    "# Filter and cast relevant columns for analysis\n",
    "performanceDF = performanceDF.select(\"Player\", \"Squad\", \"Gls\").filter(col(\"Gls\").isNotNull())\n",
    "performanceDF = performanceDF.withColumn(\"Gls\", col(\"Gls\").cast(\"int\"))\n",
    "performanceDF.head(10)"
   ]
  },
  {
   "cell_type": "code",
   "execution_count": 34,
   "id": "2f42bb3a-2dd1-47db-a0f2-3c66158535f4",
   "metadata": {},
   "outputs": [
    {
     "data": {
      "text/plain": [
       "[Row(Squad='Bournemouth', Player='Max Aarons', Gls=0, Comp='Premier League'),\n",
       " Row(Squad='Union Berlin', Player='Brenden Aaronson', Gls=2, Comp='Bundesliga'),\n",
       " Row(Squad='Eint Frankfurt', Player='Paxten Aaronson', Gls=0, Comp='Bundesliga'),\n",
       " Row(Squad='Marseille', Player='Keyliane Abdallah', Gls=0, Comp='Ligue 1'),\n",
       " Row(Squad='Reims', Player='Yunis Abdelhamid', Gls=4, Comp='Ligue 1'),\n",
       " Row(Squad='Lens', Player='Salis Abdul Samed', Gls=0, Comp='Ligue 1'),\n",
       " Row(Squad='Getafe', Player='Nabil Aberdin', Gls=0, Comp='La Liga'),\n",
       " Row(Squad='Lorient', Player='Laurent Abergel', Gls=2, Comp='Ligue 1'),\n",
       " Row(Squad='Nantes', Player='Matthis Abline', Gls=5, Comp='Ligue 1'),\n",
       " Row(Squad='Betis', Player='Abner', Gls=0, Comp='La Liga')]"
      ]
     },
     "execution_count": 34,
     "metadata": {},
     "output_type": "execute_result"
    }
   ],
   "source": [
    "# Join performanceDF with teamsDF to include competition (Comp)\n",
    "teamsDF = teamsDF.select(\"Squad\", \"Comp\")  # Keep only relevant columns\n",
    "performanceWithCompDF = performanceDF.join(teamsDF, on=\"Squad\", how=\"inner\")\n",
    "performanceWithCompDF.head(10)"
   ]
  },
  {
   "cell_type": "code",
   "execution_count": 35,
   "id": "51242123-5eb2-4337-b00e-d8ca38a89516",
   "metadata": {},
   "outputs": [],
   "source": [
    "# Aggregate total goals by Squad and Comp\n",
    "teamStatsDF = performanceWithCompDF.groupBy(\"Squad\", \"Comp\").agg(\n",
    "    sum(\"Gls\").alias(\"Total_Gls\")\n",
    ")"
   ]
  },
  {
   "cell_type": "code",
   "execution_count": 36,
   "id": "c33296d7-925d-4e0b-b052-523d5d37f541",
   "metadata": {},
   "outputs": [
    {
     "data": {
      "text/plain": [
       "[Row(Squad='Lazio', Comp='Serie A', Total_Gls=46),\n",
       " Row(Squad='Stuttgart', Comp='Bundesliga', Total_Gls=78),\n",
       " Row(Squad='Tottenham', Comp='Premier League', Total_Gls=69),\n",
       " Row(Squad='Athletic Club', Comp='La Liga', Total_Gls=59),\n",
       " Row(Squad='Real Sociedad', Comp='La Liga', Total_Gls=48),\n",
       " Row(Squad='Milan', Comp='Serie A', Total_Gls=76),\n",
       " Row(Squad='Liverpool', Comp='Premier League', Total_Gls=80),\n",
       " Row(Squad='Lens', Comp='Ligue 1', Total_Gls=45),\n",
       " Row(Squad='Real Madrid', Comp='La Liga', Total_Gls=85),\n",
       " Row(Squad='Bournemouth', Comp='Premier League', Total_Gls=52)]"
      ]
     },
     "execution_count": 36,
     "metadata": {},
     "output_type": "execute_result"
    }
   ],
   "source": [
    "teamStatsDF.head(10)"
   ]
  },
  {
   "cell_type": "code",
   "execution_count": 37,
   "id": "0f3564de-71ad-42cc-8932-fc7036221f0b",
   "metadata": {},
   "outputs": [],
   "source": [
    "globalWindow = Window.orderBy(col(\"Total_Gls\").desc())\n",
    "teamStatsWithRankDF = teamStatsDF.withColumn(\"Global_Rank\", rank().over(globalWindow))"
   ]
  },
  {
   "cell_type": "code",
   "execution_count": 38,
   "id": "8a779038-f752-4d01-9910-6bbd0f70dcf9",
   "metadata": {},
   "outputs": [
    {
     "name": "stdout",
     "output_type": "stream",
     "text": [
      "+-------------+----------+---------+-----------+-----------+\n",
      "|        Squad|      Comp|Total_Gls|Global_Rank|League_Rank|\n",
      "+-------------+----------+---------+-----------+-----------+\n",
      "|Bayern Munich|Bundesliga|       93|          2|          1|\n",
      "|   Leverkusen|Bundesliga|       87|          3|          2|\n",
      "|    Stuttgart|Bundesliga|       78|         10|          3|\n",
      "|   RB Leipzig|Bundesliga|       74|         15|          4|\n",
      "|     Dortmund|Bundesliga|       68|         19|          5|\n",
      "+-------------+----------+---------+-----------+-----------+\n",
      "only showing top 5 rows\n",
      "\n"
     ]
    }
   ],
   "source": [
    "#League Ranking\n",
    "leagueWindow = Window.partitionBy(\"Comp\").orderBy(col(\"Total_Gls\").desc())\n",
    "teamStatsWithLeagueRankDF = teamStatsWithRankDF.withColumn(\"League_Rank\", rank().over(leagueWindow))\n",
    "teamStatsWithLeagueRankDF.show(5)"
   ]
  },
  {
   "cell_type": "code",
   "execution_count": 39,
   "id": "e3066e3c-cf5a-43e0-ac5d-65689feaf02e",
   "metadata": {},
   "outputs": [
    {
     "name": "stdout",
     "output_type": "stream",
     "text": [
      "Top 5 Teams in Serie A\n",
      "+----------+-------+---------+-----------+-----------+\n",
      "|     Squad|   Comp|Total_Gls|Global_Rank|League_Rank|\n",
      "+----------+-------+---------+-----------+-----------+\n",
      "|     Inter|Serie A|       87|          3|          1|\n",
      "|     Milan|Serie A|       76|         12|          2|\n",
      "|  Atalanta|Serie A|       72|         16|          3|\n",
      "|      Roma|Serie A|       64|         23|          4|\n",
      "|Fiorentina|Serie A|       60|         25|          5|\n",
      "+----------+-------+---------+-----------+-----------+\n",
      "\n",
      "Top 5 Teams in Premier League\n",
      "+---------------+--------------+---------+-----------+-----------+\n",
      "|          Squad|          Comp|Total_Gls|Global_Rank|League_Rank|\n",
      "+---------------+--------------+---------+-----------+-----------+\n",
      "|Manchester City|Premier League|       94|          1|          1|\n",
      "|        Arsenal|Premier League|       86|          5|          2|\n",
      "|  Newcastle Utd|Premier League|       83|          8|          3|\n",
      "|      Liverpool|Premier League|       80|          9|          4|\n",
      "|        Chelsea|Premier League|       76|         12|          5|\n",
      "+---------------+--------------+---------+-----------+-----------+\n",
      "\n",
      "Top 5 Teams in Bundesliga\n",
      "+-------------+----------+---------+-----------+-----------+\n",
      "|        Squad|      Comp|Total_Gls|Global_Rank|League_Rank|\n",
      "+-------------+----------+---------+-----------+-----------+\n",
      "|Bayern Munich|Bundesliga|       93|          2|          1|\n",
      "|   Leverkusen|Bundesliga|       87|          3|          2|\n",
      "|    Stuttgart|Bundesliga|       78|         10|          3|\n",
      "|   RB Leipzig|Bundesliga|       74|         15|          4|\n",
      "|     Dortmund|Bundesliga|       68|         19|          5|\n",
      "+-------------+----------+---------+-----------+-----------+\n",
      "\n",
      "Top 5 Teams in La Liga\n",
      "+---------------+-------+---------+-----------+-----------+\n",
      "|          Squad|   Comp|Total_Gls|Global_Rank|League_Rank|\n",
      "+---------------+-------+---------+-----------+-----------+\n",
      "|    Real Madrid|La Liga|       85|          6|          1|\n",
      "|         Girona|La Liga|       84|          7|          2|\n",
      "|      Barcelona|La Liga|       76|         12|          3|\n",
      "|Atlético Madrid|La Liga|       68|         19|          4|\n",
      "|     Villarreal|La Liga|       64|         23|          5|\n",
      "+---------------+-------+---------+-----------+-----------+\n",
      "\n",
      "Top 5 Teams in Ligue 1\n",
      "+---------+-------+---------+-----------+-----------+\n",
      "|    Squad|   Comp|Total_Gls|Global_Rank|League_Rank|\n",
      "+---------+-------+---------+-----------+-----------+\n",
      "|Paris S-G|Ligue 1|       78|         10|          1|\n",
      "|   Monaco|Ligue 1|       66|         21|          2|\n",
      "|   Rennes|Ligue 1|       53|         34|          3|\n",
      "|    Brest|Ligue 1|       51|         38|          4|\n",
      "|Marseille|Ligue 1|       50|         39|          5|\n",
      "|    Lille|Ligue 1|       50|         39|          5|\n",
      "+---------+-------+---------+-----------+-----------+\n",
      "\n"
     ]
    }
   ],
   "source": [
    "leagueWindow = Window.partitionBy(\"Comp\").orderBy(col(\"Total_Gls\").desc())\n",
    "teamStatsWithLeagueRankDF = teamStatsWithRankDF.withColumn(\"League_Rank\", rank().over(leagueWindow))\n",
    "\n",
    "# Get unique competitions (leagues)\n",
    "unique_competitions = [row[\"Comp\"] for row in teamStatsWithLeagueRankDF.select(\"Comp\").distinct().collect()]\n",
    "\n",
    "# Extract top 5 teams for each league\n",
    "for league in unique_competitions:\n",
    "    top_5_in_league = teamStatsWithLeagueRankDF.filter((col(\"Comp\") == league) & (col(\"League_Rank\") <= 5))\n",
    "    print(f\"Top 5 Teams in {league}\")\n",
    "    top_5_in_league.show()"
   ]
  },
  {
   "cell_type": "code",
   "execution_count": 40,
   "id": "00d68b49-40c6-4079-ba88-97f1f3688dfe",
   "metadata": {},
   "outputs": [],
   "source": [
    "teamRankingWindow = Window.orderBy(col(\"Total_Gls\").desc())\n",
    "rankedTeamsDF = teamStatsDF.withColumn(\"Rank\", row_number().over(teamRankingWindow))"
   ]
  },
  {
   "cell_type": "code",
   "execution_count": 41,
   "id": "2c9b5de3-5388-4cf1-b83d-19e23cc4f0b3",
   "metadata": {},
   "outputs": [
    {
     "name": "stdout",
     "output_type": "stream",
     "text": [
      "+---------------+--------------+---------+-----------+-----------+\n",
      "|          Squad|          Comp|Total_Gls|Global_Rank|League_Rank|\n",
      "+---------------+--------------+---------+-----------+-----------+\n",
      "|Manchester City|Premier League|       94|          1|          1|\n",
      "|  Bayern Munich|    Bundesliga|       93|          2|          1|\n",
      "|     Leverkusen|    Bundesliga|       87|          3|          2|\n",
      "|          Inter|       Serie A|       87|          3|          1|\n",
      "|        Arsenal|Premier League|       86|          5|          2|\n",
      "|    Real Madrid|       La Liga|       85|          6|          1|\n",
      "|         Girona|       La Liga|       84|          7|          2|\n",
      "|  Newcastle Utd|Premier League|       83|          8|          3|\n",
      "|      Liverpool|Premier League|       80|          9|          4|\n",
      "|      Stuttgart|    Bundesliga|       78|         10|          3|\n",
      "|      Paris S-G|       Ligue 1|       78|         10|          1|\n",
      "|      Barcelona|       La Liga|       76|         12|          3|\n",
      "|          Milan|       Serie A|       76|         12|          2|\n",
      "|        Chelsea|Premier League|       76|         12|          5|\n",
      "|     RB Leipzig|    Bundesliga|       74|         15|          4|\n",
      "|       Atalanta|       Serie A|       72|         16|          3|\n",
      "|    Aston Villa|Premier League|       72|         16|          6|\n",
      "|      Tottenham|Premier League|       69|         18|          7|\n",
      "|Atlético Madrid|       La Liga|       68|         19|          4|\n",
      "|       Dortmund|    Bundesliga|       68|         19|          5|\n",
      "+---------------+--------------+---------+-----------+-----------+\n",
      "only showing top 20 rows\n",
      "\n"
     ]
    }
   ],
   "source": [
    "#Top 10 teams globally based on Global Rank\n",
    "top_global_teams = teamStatsWithLeagueRankDF.orderBy(col(\"Global_Rank\"))\n",
    "top_global_teams.show()\n"
   ]
  },
  {
   "cell_type": "code",
   "execution_count": 42,
   "id": "f189271d-2ad0-4735-96ca-69a59d2450e8",
   "metadata": {},
   "outputs": [],
   "source": [
    "bucket = \"temp_assignment2\"  \n",
    "spark.conf.set('temporaryGcsBucket', bucket)\n",
    "\n",
    "rankedTeamsDF.write.mode(\"overwrite\").csv(\"gs://temp_assignment2/best_20_teams.csv\", header=True)\n",
    "# Save to BigQuery\n",
    "rankedTeamsDF.write.format('bigquery') \\\n",
    "  .option('table', 'de-assignment2-group10.Pipeline_team_stats.top_attacking_teams') \\\n",
    "  .mode(\"overwrite\") \\\n",
    "  .save()"
   ]
  },
  {
   "cell_type": "code",
   "execution_count": 43,
   "id": "bdcb786c-fd35-45e2-b1a4-20524cf483ab",
   "metadata": {},
   "outputs": [],
   "source": [
    "# Stop the spark context\n",
    "spark.stop()"
   ]
  },
  {
   "cell_type": "code",
   "execution_count": null,
   "id": "6d3d2339-0847-4ec0-9b10-a91feed9cc8f",
   "metadata": {},
   "outputs": [],
   "source": []
  }
 ],
 "metadata": {
  "kernelspec": {
   "display_name": "Python 3 (ipykernel)",
   "language": "python",
   "name": "python3"
  },
  "language_info": {
   "codemirror_mode": {
    "name": "ipython",
    "version": 3
   },
   "file_extension": ".py",
   "mimetype": "text/x-python",
   "name": "python",
   "nbconvert_exporter": "python",
   "pygments_lexer": "ipython3",
   "version": "3.11.6"
  }
 },
 "nbformat": 4,
 "nbformat_minor": 5
}
