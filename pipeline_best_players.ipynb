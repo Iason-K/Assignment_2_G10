{
 "cells": [
  {
   "cell_type": "code",
   "execution_count": 44,
   "id": "17d10ca7-1abe-4040-a00f-1ee2326e7eaa",
   "metadata": {},
   "outputs": [
    {
     "name": "stdout",
     "output_type": "stream",
     "text": [
      "+-----------------+-------+----+-----+--------------+\n",
      "|           Player| Nation| Age|  Pos|         Squad|\n",
      "+-----------------+-------+----+-----+--------------+\n",
      "|       Max Aarons|eng ENG|23.0|   DF|   Bournemouth|\n",
      "| Brenden Aaronson| us USA|22.0|MF,FW|  Union Berlin|\n",
      "|  Paxten Aaronson| us USA|19.0|   MF|Eint Frankfurt|\n",
      "|Keyliane Abdallah| fr FRA|17.0|   FW|     Marseille|\n",
      "| Yunis Abdelhamid| ma MAR|35.0|   DF|         Reims|\n",
      "+-----------------+-------+----+-----+--------------+\n",
      "only showing top 5 rows\n",
      "\n",
      "+--------------+------------------+\n",
      "|         Squad|              Comp|\n",
      "+--------------+------------------+\n",
      "|   Bournemouth|eng Premier League|\n",
      "|  Union Berlin|     de Bundesliga|\n",
      "|Eint Frankfurt|     de Bundesliga|\n",
      "|     Marseille|        fr Ligue 1|\n",
      "|         Reims|        fr Ligue 1|\n",
      "+--------------+------------------+\n",
      "only showing top 5 rows\n",
      "\n",
      "+-----------------+--------------+---+------+----+---+---+---+---+---+\n",
      "|           Player|         Squad| MP|Starts| Min|Gls|Ast|G+A| xG|xAG|\n",
      "+-----------------+--------------+---+------+----+---+---+---+---+---+\n",
      "|       Max Aarons|   Bournemouth| 20|    13|1237|  0|  1|  1|0.0|0.8|\n",
      "| Brenden Aaronson|  Union Berlin| 30|    14|1267|  2|  2|  4|2.0|1.9|\n",
      "|  Paxten Aaronson|Eint Frankfurt|  7|     1| 101|  0|  1|  1|0.1|0.1|\n",
      "|Keyliane Abdallah|     Marseille|  1|     0|   4|  0|  0|  0|0.0|0.0|\n",
      "| Yunis Abdelhamid|         Reims| 31|    31|2781|  4|  0|  4|3.4|0.3|\n",
      "+-----------------+--------------+---+------+----+---+---+---+---+---+\n",
      "only showing top 5 rows\n",
      "\n"
     ]
    }
   ],
   "source": [
    "from pyspark.sql import SparkSession\n",
    "from pyspark import SparkConf\n",
    "from pyspark.sql.functions import concat, lit\n",
    "\n",
    "# Spark Configuration\n",
    "sparkConf = SparkConf()\n",
    "sparkConf.setMaster(\"spark://spark-master:7077\")\n",
    "sparkConf.setAppName(\"Football_Pipeline\")\n",
    "sparkConf.set(\"spark.driver.memory\", \"2g\")\n",
    "sparkConf.set(\"spark.executor.cores\", \"1\")\n",
    "sparkConf.set(\"spark.driver.cores\", \"1\")\n",
    "\n",
    "# Create the Spark session\n",
    "spark = SparkSession.builder.config(conf=sparkConf).getOrCreate()\n",
    "\n",
    "# Setup Hadoop configuration for GCS\n",
    "conf = spark.sparkContext._jsc.hadoopConfiguration()\n",
    "conf.set(\"fs.gs.impl\", \"com.google.cloud.hadoop.fs.gcs.GoogleHadoopFileSystem\")\n",
    "conf.set(\"fs.AbstractFileSystem.gs.impl\", \"com.google.cloud.hadoop.fs.gcs.GoogleHadoopFS\")\n",
    "\n",
    "\n",
    "playersDF = spark.read.format(\"csv\").option(\"header\", \"true\") \\\n",
    "    .load(\"gs://data_assignment2/players_table.csv\")\n",
    "teamsDF = spark.read.format(\"csv\").option(\"header\", \"true\") \\\n",
    "    .load(\"gs://data_assignment2/teams_table.csv\")\n",
    "performanceDF = spark.read.format(\"csv\").option(\"header\", \"true\") \\\n",
    "    .load(\"gs://data_assignment2/player_performance_table.csv\")\n",
    "\n",
    "\n",
    "playersDF.show(5)\n",
    "teamsDF.show(5)\n",
    "performanceDF.show(5)\n"
   ]
  },
  {
   "cell_type": "code",
   "execution_count": 45,
   "id": "34b56b4e-ef61-4d34-99f2-1e92561c7909",
   "metadata": {},
   "outputs": [
    {
     "name": "stdout",
     "output_type": "stream",
     "text": [
      "root\n",
      " |-- Player: string (nullable = true)\n",
      " |-- Squad: string (nullable = true)\n",
      " |-- MP: string (nullable = true)\n",
      " |-- Gls: string (nullable = true)\n",
      " |-- Ast: string (nullable = true)\n",
      " |-- G+A: string (nullable = true)\n",
      " |-- xG: string (nullable = true)\n",
      " |-- xAG: string (nullable = true)\n",
      "\n",
      "+-----------------+--------------+---+---+---+---+---+---+\n",
      "|           Player|         Squad| MP|Gls|Ast|G+A| xG|xAG|\n",
      "+-----------------+--------------+---+---+---+---+---+---+\n",
      "|       Max Aarons|   Bournemouth| 20|  0|  1|  1|0.0|0.8|\n",
      "| Brenden Aaronson|  Union Berlin| 30|  2|  2|  4|2.0|1.9|\n",
      "|  Paxten Aaronson|Eint Frankfurt|  7|  0|  1|  1|0.1|0.1|\n",
      "|Keyliane Abdallah|     Marseille|  1|  0|  0|  0|0.0|0.0|\n",
      "| Yunis Abdelhamid|         Reims| 31|  4|  0|  4|3.4|0.3|\n",
      "+-----------------+--------------+---+---+---+---+---+---+\n",
      "only showing top 5 rows\n",
      "\n"
     ]
    }
   ],
   "source": [
    "from pyspark.sql.functions import col\n",
    "\n",
    "# Relevant columns from performanceDF\n",
    "filteredPerformanceDF = performanceDF.select(\n",
    "    \"Player\", \"Squad\", \"MP\", \"Gls\", \"Ast\", \"G+A\", \"xG\", \"xAG\"\n",
    ").na.drop(\"any\", subset=[\"Player\", \"Squad\", \"MP\", \"G+A\"])\n",
    "\n",
    "\n",
    "filteredPerformanceDF.printSchema()\n",
    "filteredPerformanceDF.show(5)\n"
   ]
  },
  {
   "cell_type": "code",
   "execution_count": 46,
   "id": "efc64df5-34ef-4d3a-b77d-7ca3be411443",
   "metadata": {},
   "outputs": [
    {
     "name": "stdout",
     "output_type": "stream",
     "text": [
      "root\n",
      " |-- Player: string (nullable = true)\n",
      " |-- Nation: string (nullable = true)\n",
      " |-- Age: string (nullable = true)\n",
      " |-- Pos: string (nullable = true)\n",
      " |-- Squad: string (nullable = true)\n",
      " |-- Player_Name: string (nullable = true)\n",
      "\n",
      "+-----------------+-------+----+-----+--------------+------------------+\n",
      "|           Player| Nation| Age|  Pos|         Squad|       Player_Name|\n",
      "+-----------------+-------+----+-----+--------------+------------------+\n",
      "|       Max Aarons|eng ENG|23.0|   DF|   Bournemouth|       Max Aarons |\n",
      "| Brenden Aaronson| us USA|22.0|MF,FW|  Union Berlin| Brenden Aaronson |\n",
      "|  Paxten Aaronson| us USA|19.0|   MF|Eint Frankfurt|  Paxten Aaronson |\n",
      "|Keyliane Abdallah| fr FRA|17.0|   FW|     Marseille|Keyliane Abdallah |\n",
      "| Yunis Abdelhamid| ma MAR|35.0|   DF|         Reims| Yunis Abdelhamid |\n",
      "+-----------------+-------+----+-----+--------------+------------------+\n",
      "only showing top 5 rows\n",
      "\n"
     ]
    }
   ],
   "source": [
    "from pyspark.sql.functions import concat, lit\n",
    "\n",
    "# Keep relevant columns from playersDF\n",
    "filteredPlayersDF = playersDF.select(\n",
    "    \"Player\", \"Nation\", \"Age\", \"Pos\", \"Squad\"\n",
    ").na.drop(\"any\", subset=[\"Player\", \"Squad\",\"Age\"])\n",
    "\n",
    "\n",
    "filteredPlayersDF = filteredPlayersDF.withColumn(\n",
    "    \"Player_Name\", concat(col(\"Player\"), lit(\" \"))\n",
    ")\n",
    "\n",
    "\n",
    "filteredPlayersDF.printSchema()\n",
    "filteredPlayersDF.show(5)\n"
   ]
  },
  {
   "cell_type": "code",
   "execution_count": 47,
   "id": "64c946b4-64d8-44a5-8f01-8f63ec3a7789",
   "metadata": {},
   "outputs": [
    {
     "name": "stdout",
     "output_type": "stream",
     "text": [
      "root\n",
      " |-- Squad: string (nullable = true)\n",
      " |-- Comp: string (nullable = true)\n",
      "\n",
      "+--------------+------------------+\n",
      "|         Squad|              Comp|\n",
      "+--------------+------------------+\n",
      "|   Bournemouth|eng Premier League|\n",
      "|  Union Berlin|     de Bundesliga|\n",
      "|Eint Frankfurt|     de Bundesliga|\n",
      "|     Marseille|        fr Ligue 1|\n",
      "|         Reims|        fr Ligue 1|\n",
      "+--------------+------------------+\n",
      "only showing top 5 rows\n",
      "\n"
     ]
    }
   ],
   "source": [
    "# Relevant columns from teamsDF\n",
    "filteredTeamsDF = teamsDF.select(\n",
    "    \"Squad\", \"Comp\"\n",
    ").na.drop(\"any\", subset=[\"Squad\", \"Comp\"])\n",
    "\n",
    "\n",
    "filteredTeamsDF.printSchema()\n",
    "filteredTeamsDF.show(5)\n"
   ]
  },
  {
   "cell_type": "code",
   "execution_count": null,
   "id": "04709e1a-09c4-4f89-9887-bb22056d7cbb",
   "metadata": {},
   "outputs": [],
   "source": []
  },
  {
   "cell_type": "code",
   "execution_count": 48,
   "id": "8df0d5e8-3e7c-4eca-aac5-d61bc327b6ae",
   "metadata": {},
   "outputs": [
    {
     "name": "stdout",
     "output_type": "stream",
     "text": [
      "root\n",
      " |-- Player: string (nullable = true)\n",
      " |-- Squad: string (nullable = true)\n",
      " |-- MP: string (nullable = true)\n",
      " |-- G+A: string (nullable = true)\n",
      " |-- Age: string (nullable = true)\n",
      " |-- Comp: string (nullable = true)\n",
      "\n",
      "+-----------------+--------------+---+---+----+------------------+\n",
      "|           Player|         Squad| MP|G+A| Age|              Comp|\n",
      "+-----------------+--------------+---+---+----+------------------+\n",
      "|       Max Aarons|   Bournemouth| 20|  1|23.0|eng Premier League|\n",
      "| Brenden Aaronson|  Union Berlin| 30|  4|22.0|     de Bundesliga|\n",
      "|  Paxten Aaronson|Eint Frankfurt|  7|  1|19.0|     de Bundesliga|\n",
      "|Keyliane Abdallah|     Marseille|  1|  0|17.0|        fr Ligue 1|\n",
      "| Yunis Abdelhamid|         Reims| 31|  4|35.0|        fr Ligue 1|\n",
      "|Salis Abdul Samed|          Lens| 27|  0|23.0|        fr Ligue 1|\n",
      "|    Nabil Aberdin|        Getafe|  2|  0|20.0|        es La Liga|\n",
      "|  Laurent Abergel|       Lorient| 33|  3|30.0|        fr Ligue 1|\n",
      "|   Matthis Abline|        Nantes| 22|  5|20.0|        fr Ligue 1|\n",
      "|            Abner|         Betis| 23|  1|23.0|        es La Liga|\n",
      "+-----------------+--------------+---+---+----+------------------+\n",
      "only showing top 10 rows\n",
      "\n"
     ]
    }
   ],
   "source": [
    "# Join Performance and Players tables\n",
    "performance_playersDF = filteredPerformanceDF.join(\n",
    "    filteredPlayersDF,\n",
    "    on=[\"Player\", \"Squad\"],\n",
    "    how=\"inner\"\n",
    ")\n",
    "\n",
    "# Join with Teams table\n",
    "finalTableDF = performance_playersDF.join(\n",
    "    filteredTeamsDF,\n",
    "    on=[\"Squad\"],\n",
    "    how=\"inner\"\n",
    ")\n",
    "\n",
    "\n",
    "finalTableDF = finalTableDF.select(\"Player\", \"Squad\", \"MP\", \"G+A\", \"Age\", \"Comp\")\n",
    "\n",
    "\n",
    "finalTableDF.printSchema()\n",
    "finalTableDF.show(10)\n"
   ]
  },
  {
   "cell_type": "code",
   "execution_count": null,
   "id": "8b1733e1-fea9-4c95-bdee-b77ab76d7b21",
   "metadata": {},
   "outputs": [],
   "source": []
  },
  {
   "cell_type": "code",
   "execution_count": 49,
   "id": "8f625ce8-1d46-4e72-aee9-759d2b853fce",
   "metadata": {},
   "outputs": [
    {
     "name": "stdout",
     "output_type": "stream",
     "text": [
      "root\n",
      " |-- Player: string (nullable = true)\n",
      " |-- Squad: string (nullable = true)\n",
      " |-- MP: string (nullable = true)\n",
      " |-- G+A: string (nullable = true)\n",
      " |-- Age: string (nullable = true)\n",
      " |-- Comp: string (nullable = true)\n",
      "\n",
      "+-----------------+--------------+---+---+----+------------------+\n",
      "|           Player|         Squad| MP|G+A| Age|              Comp|\n",
      "+-----------------+--------------+---+---+----+------------------+\n",
      "|       Max Aarons|   Bournemouth| 20|  1|23.0|eng Premier League|\n",
      "| Brenden Aaronson|  Union Berlin| 30|  4|22.0|     de Bundesliga|\n",
      "|  Paxten Aaronson|Eint Frankfurt|  7|  1|19.0|     de Bundesliga|\n",
      "| Yunis Abdelhamid|         Reims| 31|  4|35.0|        fr Ligue 1|\n",
      "|Salis Abdul Samed|          Lens| 27|  0|23.0|        fr Ligue 1|\n",
      "|  Laurent Abergel|       Lorient| 33|  3|30.0|        fr Ligue 1|\n",
      "|   Matthis Abline|        Nantes| 22|  5|20.0|        fr Ligue 1|\n",
      "|            Abner|         Betis| 23|  1|23.0|        es La Liga|\n",
      "|Zakaria Aboukhlal|      Toulouse| 13|  3|23.0|        fr Ligue 1|\n",
      "|      Abdel Abqar|        Alavés| 27|  0|24.0|        es La Liga|\n",
      "+-----------------+--------------+---+---+----+------------------+\n",
      "only showing top 10 rows\n",
      "\n"
     ]
    }
   ],
   "source": [
    "from pyspark.sql.functions import col\n",
    "\n",
    "# Filter out players with fewer than 5 matches\n",
    "filteredTableDF = finalTableDF.filter(col(\"MP\") >= 5)\n",
    "\n",
    "# Schema after filtering\n",
    "filteredTableDF.printSchema()\n",
    "filteredTableDF.show(10)"
   ]
  },
  {
   "cell_type": "code",
   "execution_count": null,
   "id": "de888c88-0dc2-498b-9c65-1a66ee7ff137",
   "metadata": {},
   "outputs": [],
   "source": []
  },
  {
   "cell_type": "code",
   "execution_count": null,
   "id": "ae24ddb1-7ea2-436b-b745-4d35bf726b4a",
   "metadata": {},
   "outputs": [],
   "source": []
  },
  {
   "cell_type": "code",
   "execution_count": 50,
   "id": "8c14f64b-ab3d-4078-83db-fb469fd5645e",
   "metadata": {},
   "outputs": [
    {
     "name": "stdout",
     "output_type": "stream",
     "text": [
      "+-----------------+-------------+--------------+---------+-------------+\n",
      "|           Player|         Comp|         Squad|total_G+A|G+A_per_match|\n",
      "+-----------------+-------------+--------------+---------+-------------+\n",
      "|       Harry Kane|de Bundesliga| Bayern Munich|     44.0|         1.38|\n",
      "|  Serhou Guirassy|de Bundesliga|     Stuttgart|     31.0|         1.11|\n",
      "|  Victor Boniface|de Bundesliga|    Leverkusen|     22.0|         0.96|\n",
      "|      Deniz Undav|de Bundesliga|     Stuttgart|     28.0|         0.93|\n",
      "|      Loïs Openda|de Bundesliga|    RB Leipzig|     31.0|         0.91|\n",
      "|Ermedin Demirović|de Bundesliga|      Augsburg|     24.0|         0.73|\n",
      "|       Leroy Sané|de Bundesliga| Bayern Munich|     19.0|          0.7|\n",
      "|  Andrej Kramarić|de Bundesliga|    Hoffenheim|     21.0|          0.7|\n",
      "|    Álex Grimaldo|de Bundesliga|    Leverkusen|     23.0|          0.7|\n",
      "|  Niclas Füllkrug|de Bundesliga|      Dortmund|     20.0|         0.69|\n",
      "|    Florian Wirtz|de Bundesliga|    Leverkusen|     22.0|         0.69|\n",
      "|   Marvin Ducksch|de Bundesliga| Werder Bremen|     21.0|         0.64|\n",
      "|    Jamal Musiala|de Bundesliga| Bayern Munich|     15.0|         0.63|\n",
      "|    Omar Marmoush|de Bundesliga|Eint Frankfurt|     18.0|         0.62|\n",
      "| Jan-Niklas Beste|de Bundesliga|    Heidenheim|     19.0|         0.61|\n",
      "|      Xavi Simons|de Bundesliga|    RB Leipzig|     19.0|         0.59|\n",
      "|    Julian Brandt|de Bundesliga|      Dortmund|     18.0|         0.56|\n",
      "|       Marco Reus|de Bundesliga|      Dortmund|     14.0|         0.54|\n",
      "|     Kevin Stöger|de Bundesliga|        Bochum|     17.0|         0.53|\n",
      "|       Jonas Wind|de Bundesliga|     Wolfsburg|     18.0|         0.53|\n",
      "+-----------------+-------------+--------------+---------+-------------+\n",
      "only showing top 20 rows\n",
      "\n"
     ]
    }
   ],
   "source": [
    "from pyspark.sql.functions import col, sum, expr, round\n",
    "\n",
    "# Aggregate by Player and League with rounding to 2 decimals\n",
    "groupedResultsDF = filteredTableDF.groupBy(\"Player\", \"Comp\",\"Squad\").agg(\n",
    "    round(sum(\"G+A\"), 2).alias(\"total_G+A\"),  # Round total G+A to 2 decimals\n",
    "    round(sum(\"G+A\") / sum(\"MP\"), 2).alias(\"G+A_per_match\")  # Round G+A per match to 2 decimals\n",
    ")\n",
    "\n",
    "# Order by League and G+A per Match\n",
    "orderedResultsDF = groupedResultsDF.orderBy(col(\"Comp\").asc(), col(\"G+A_per_match\").desc())\n",
    "\n",
    "#\n",
    "orderedResultsDF.show(20)\n"
   ]
  },
  {
   "cell_type": "code",
   "execution_count": 51,
   "id": "fa3c61e0-609e-439a-963f-e03b264b4bb5",
   "metadata": {},
   "outputs": [
    {
     "name": "stdout",
     "output_type": "stream",
     "text": [
      "+-----------------+--------------+-------------+---------+-------------+----+\n",
      "|           Player|         Squad|         Comp|total_G+A|G+A_per_match|rank|\n",
      "+-----------------+--------------+-------------+---------+-------------+----+\n",
      "|       Harry Kane| Bayern Munich|de Bundesliga|     44.0|         1.38|   1|\n",
      "|  Serhou Guirassy|     Stuttgart|de Bundesliga|     31.0|         1.11|   2|\n",
      "|  Victor Boniface|    Leverkusen|de Bundesliga|     22.0|         0.96|   3|\n",
      "|      Deniz Undav|     Stuttgart|de Bundesliga|     28.0|         0.93|   4|\n",
      "|      Loïs Openda|    RB Leipzig|de Bundesliga|     31.0|         0.91|   5|\n",
      "|Ermedin Demirović|      Augsburg|de Bundesliga|     24.0|         0.73|   6|\n",
      "|       Leroy Sané| Bayern Munich|de Bundesliga|     19.0|          0.7|   7|\n",
      "|  Andrej Kramarić|    Hoffenheim|de Bundesliga|     21.0|          0.7|   7|\n",
      "|    Álex Grimaldo|    Leverkusen|de Bundesliga|     23.0|          0.7|   7|\n",
      "|  Niclas Füllkrug|      Dortmund|de Bundesliga|     20.0|         0.69|   8|\n",
      "|    Florian Wirtz|    Leverkusen|de Bundesliga|     22.0|         0.69|   8|\n",
      "|   Marvin Ducksch| Werder Bremen|de Bundesliga|     21.0|         0.64|   9|\n",
      "|    Jamal Musiala| Bayern Munich|de Bundesliga|     15.0|         0.63|  10|\n",
      "|    Omar Marmoush|Eint Frankfurt|de Bundesliga|     18.0|         0.62|  11|\n",
      "| Jan-Niklas Beste|    Heidenheim|de Bundesliga|     19.0|         0.61|  12|\n",
      "|      Xavi Simons|    RB Leipzig|de Bundesliga|     19.0|         0.59|  13|\n",
      "|    Julian Brandt|      Dortmund|de Bundesliga|     18.0|         0.56|  14|\n",
      "|       Marco Reus|      Dortmund|de Bundesliga|     14.0|         0.54|  15|\n",
      "|     Kevin Stöger|        Bochum|de Bundesliga|     17.0|         0.53|  16|\n",
      "|       Jonas Wind|     Wolfsburg|de Bundesliga|     18.0|         0.53|  16|\n",
      "+-----------------+--------------+-------------+---------+-------------+----+\n",
      "only showing top 20 rows\n",
      "\n"
     ]
    }
   ],
   "source": [
    "from pyspark.sql.window import Window\n",
    "from pyspark.sql.functions import dense_rank, col, round, sum,row_number\n",
    "\n",
    "# Window for dense ranking within each league\n",
    "rankedWindow = Window.partitionBy(\"Comp\").orderBy(col(\"G+A_per_match\").desc())\n",
    "\n",
    "# Dense rank\n",
    "rankedDF = groupedResultsDF.select(\n",
    "    col(\"Player\"),\n",
    "    col(\"Squad\"),\n",
    "    col(\"Comp\"),\n",
    "    col(\"total_G+A\"),\n",
    "    col(\"G+A_per_match\"),\n",
    "    dense_rank().over(rankedWindow).alias(\"rank\")\n",
    ")\n",
    "\n",
    "\n",
    "rankedDF.show(20)\n"
   ]
  },
  {
   "cell_type": "code",
   "execution_count": 52,
   "id": "59ca6b10-1cc2-42d4-bf3d-4ed003ea7484",
   "metadata": {},
   "outputs": [
    {
     "name": "stdout",
     "output_type": "stream",
     "text": [
      "+--------------------+---------------+------------------+---------+-------------+----+\n",
      "|              Player|          Squad|              Comp|total_G+A|G+A_per_match|rank|\n",
      "+--------------------+---------------+------------------+---------+-------------+----+\n",
      "|          Harry Kane|  Bayern Munich|     de Bundesliga|     44.0|         1.38|   1|\n",
      "|     Serhou Guirassy|      Stuttgart|     de Bundesliga|     31.0|         1.11|   2|\n",
      "|     Victor Boniface|     Leverkusen|     de Bundesliga|     22.0|         0.96|   3|\n",
      "|      Erling Haaland|Manchester City|eng Premier League|     32.0|         1.03|   1|\n",
      "|         Cole Palmer|        Chelsea|eng Premier League|     33.0|          1.0|   2|\n",
      "|       Mohamed Salah|      Liverpool|eng Premier League|     28.0|         0.88|   3|\n",
      "|     Jude Bellingham|    Real Madrid|        es La Liga|     25.0|         0.89|   1|\n",
      "|        Artem Dovbyk|         Girona|        es La Liga|     32.0|         0.89|   1|\n",
      "|   Alexander Sørloth|     Villarreal|        es La Liga|     29.0|         0.85|   2|\n",
      "|     Vinicius Júnior|    Real Madrid|        es La Liga|     20.0|         0.77|   3|\n",
      "|  Robert Lewandowski|      Barcelona|        es La Liga|     27.0|         0.77|   3|\n",
      "|       Kylian Mbappé|      Paris S-G|        fr Ligue 1|     34.0|         1.17|   1|\n",
      "|  Georges Mikautadze|           Metz|        fr Ligue 1|     17.0|         0.85|   2|\n",
      "|Pierre-Emerick Au...|      Marseille|        fr Ligue 1|     25.0|         0.74|   3|\n",
      "|    Lautaro Martínez|          Inter|        it Serie A|     27.0|         0.82|   1|\n",
      "|        Paulo Dybala|           Roma|        it Serie A|     22.0|         0.79|   2|\n",
      "|      Victor Osimhen|         Napoli|        it Serie A|     18.0|         0.72|   3|\n",
      "+--------------------+---------------+------------------+---------+-------------+----+\n",
      "\n"
     ]
    }
   ],
   "source": [
    "# Top 2 players in each league(filtering)\n",
    "topPlayersDF = rankedDF.filter(col(\"rank\") <= 3)\n",
    "\n",
    "# Top 2 players per league\n",
    "topPlayersDF.show()\n"
   ]
  },
  {
   "cell_type": "code",
   "execution_count": 53,
   "id": "31bb96c0-795f-4cd5-aa13-517ad4b4e8bc",
   "metadata": {},
   "outputs": [
    {
     "name": "stdout",
     "output_type": "stream",
     "text": [
      "+--------------------+---------------+------------------+---------+-------------+----+\n",
      "|              Player|          Squad|              Comp|total_G+A|G+A_per_match|rank|\n",
      "+--------------------+---------------+------------------+---------+-------------+----+\n",
      "|          Harry Kane|  Bayern Munich|     de Bundesliga|     44.0|         1.38|   1|\n",
      "|     Serhou Guirassy|      Stuttgart|     de Bundesliga|     31.0|         1.11|   2|\n",
      "|     Victor Boniface|     Leverkusen|     de Bundesliga|     22.0|         0.96|   3|\n",
      "|      Erling Haaland|Manchester City|eng Premier League|     32.0|         1.03|   1|\n",
      "|         Cole Palmer|        Chelsea|eng Premier League|     33.0|          1.0|   2|\n",
      "|       Mohamed Salah|      Liverpool|eng Premier League|     28.0|         0.88|   3|\n",
      "|        Artem Dovbyk|         Girona|        es La Liga|     32.0|         0.89|   1|\n",
      "|     Jude Bellingham|    Real Madrid|        es La Liga|     25.0|         0.89|   2|\n",
      "|   Alexander Sørloth|     Villarreal|        es La Liga|     29.0|         0.85|   3|\n",
      "|       Kylian Mbappé|      Paris S-G|        fr Ligue 1|     34.0|         1.17|   1|\n",
      "|  Georges Mikautadze|           Metz|        fr Ligue 1|     17.0|         0.85|   2|\n",
      "|Pierre-Emerick Au...|      Marseille|        fr Ligue 1|     25.0|         0.74|   3|\n",
      "|    Lautaro Martínez|          Inter|        it Serie A|     27.0|         0.82|   1|\n",
      "|        Paulo Dybala|           Roma|        it Serie A|     22.0|         0.79|   2|\n",
      "|      Victor Osimhen|         Napoli|        it Serie A|     18.0|         0.72|   3|\n",
      "+--------------------+---------------+------------------+---------+-------------+----+\n",
      "\n"
     ]
    }
   ],
   "source": [
    "# Window with a tie-breaking rule\n",
    "rankedWindow = Window.partitionBy(\"Comp\").orderBy(\n",
    "    col(\"G+A_per_match\").desc(),  # Primary: G+A per match\n",
    "    col(\"total_G+A\").desc()       # Secondary: Total G+A\n",
    ")\n",
    "\n",
    "# Row_number for strict ranking\n",
    "strictRankedDF = groupedResultsDF.select(\n",
    "    col(\"Player\"),\n",
    "    col(\"Squad\"),\n",
    "    col(\"Comp\"),\n",
    "    col(\"total_G+A\"),\n",
    "    col(\"G+A_per_match\"),\n",
    "    row_number().over(rankedWindow).alias(\"rank\")\n",
    ")\n",
    "\n",
    "# Top 3 players in each league (filtering)\n",
    "top3PlayersDF = strictRankedDF.filter(col(\"rank\") <= 3)\n",
    "\n",
    "# Top 3 players per league\n",
    "top3PlayersDF.show()"
   ]
  },
  {
   "cell_type": "code",
   "execution_count": 54,
   "id": "489a5406-096b-49d7-aa32-193ec451db01",
   "metadata": {},
   "outputs": [
    {
     "name": "stdout",
     "output_type": "stream",
     "text": [
      "+--------------------+---------------+------------------+---------+-------------+----+\n",
      "|              Player|          Squad|              Comp|total_G+A|G+A_per_match|rank|\n",
      "+--------------------+---------------+------------------+---------+-------------+----+\n",
      "|          Harry Kane|  Bayern Munich|     de Bundesliga|     44.0|         1.38|   1|\n",
      "|       Kylian Mbappé|      Paris S-G|        fr Ligue 1|     34.0|         1.17|   1|\n",
      "|     Serhou Guirassy|      Stuttgart|     de Bundesliga|     31.0|         1.11|   2|\n",
      "|      Erling Haaland|Manchester City|eng Premier League|     32.0|         1.03|   1|\n",
      "|         Cole Palmer|        Chelsea|eng Premier League|     33.0|          1.0|   2|\n",
      "|     Victor Boniface|     Leverkusen|     de Bundesliga|     22.0|         0.96|   3|\n",
      "|        Artem Dovbyk|         Girona|        es La Liga|     32.0|         0.89|   1|\n",
      "|     Jude Bellingham|    Real Madrid|        es La Liga|     25.0|         0.89|   2|\n",
      "|       Mohamed Salah|      Liverpool|eng Premier League|     28.0|         0.88|   3|\n",
      "|   Alexander Sørloth|     Villarreal|        es La Liga|     29.0|         0.85|   3|\n",
      "|  Georges Mikautadze|           Metz|        fr Ligue 1|     17.0|         0.85|   2|\n",
      "|    Lautaro Martínez|          Inter|        it Serie A|     27.0|         0.82|   1|\n",
      "|        Paulo Dybala|           Roma|        it Serie A|     22.0|         0.79|   2|\n",
      "|Pierre-Emerick Au...|      Marseille|        fr Ligue 1|     25.0|         0.74|   3|\n",
      "|      Victor Osimhen|         Napoli|        it Serie A|     18.0|         0.72|   3|\n",
      "+--------------------+---------------+------------------+---------+-------------+----+\n",
      "\n"
     ]
    }
   ],
   "source": [
    "# Sorting players by g+a_per_match in descending order\n",
    "bestPlayersDF = top3PlayersDF.orderBy(\n",
    "    col(\"G+A_per_match\").desc()  # Sort by g+a_per_match in descending order\n",
    ")\n",
    "\n",
    "# Show the results\n",
    "bestPlayersDF.show(20)\n"
   ]
  },
  {
   "cell_type": "code",
   "execution_count": 56,
   "id": "4f5199e8-390a-497b-83ca-0af349af088e",
   "metadata": {},
   "outputs": [],
   "source": [
    "#\n",
    "bucket = \"temp_assignment2\" \n",
    "spark.conf.set('temporaryGcsBucket', bucket)\n",
    "\n",
    "bestPlayersDF.write.csv(\"gs://temp_assignment2/best_players.csv\", header=True)\n",
    "\n",
    "# Saving DF to BigQuery\n",
    "bestPlayersDF.write.format('bigquery') \\\n",
    "  .option('table', 'de-assignment2-group10.Pipeline_player_stats.best_players') \\\n",
    "  .mode(\"overwrite\") \\\n",
    "  .save()\n"
   ]
  },
  {
   "cell_type": "code",
   "execution_count": 57,
   "id": "77f966d2-c213-4345-aa9e-a4782222a693",
   "metadata": {},
   "outputs": [],
   "source": [
    "# Stop the spark context\n",
    "spark.stop()"
   ]
  },
  {
   "cell_type": "code",
   "execution_count": null,
   "id": "bd7e5c97-a9ac-4700-a8ee-a6e2b405cac6",
   "metadata": {},
   "outputs": [],
   "source": []
  }
 ],
 "metadata": {
  "kernelspec": {
   "display_name": "Python 3 (ipykernel)",
   "language": "python",
   "name": "python3"
  },
  "language_info": {
   "codemirror_mode": {
    "name": "ipython",
    "version": 3
   },
   "file_extension": ".py",
   "mimetype": "text/x-python",
   "name": "python",
   "nbconvert_exporter": "python",
   "pygments_lexer": "ipython3",
   "version": "3.11.6"
  }
 },
 "nbformat": 4,
 "nbformat_minor": 5
}
