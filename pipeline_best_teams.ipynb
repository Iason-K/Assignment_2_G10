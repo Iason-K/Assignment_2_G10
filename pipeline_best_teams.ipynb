{
 "cells": [
  {
   "cell_type": "code",
   "execution_count": 1,
   "id": "cc2a6ba9-6947-4caa-b60b-badc8f51dc46",
   "metadata": {},
   "outputs": [
    {
     "name": "stdout",
     "output_type": "stream",
     "text": [
      "+-----------------+-------+----+-----+--------------+\n",
      "|           Player| Nation| Age|  Pos|         Squad|\n",
      "+-----------------+-------+----+-----+--------------+\n",
      "|       Max Aarons|eng ENG|23.0|   DF|   Bournemouth|\n",
      "| Brenden Aaronson| us USA|22.0|MF,FW|  Union Berlin|\n",
      "|  Paxten Aaronson| us USA|19.0|   MF|Eint Frankfurt|\n",
      "|Keyliane Abdallah| fr FRA|17.0|   FW|     Marseille|\n",
      "| Yunis Abdelhamid| ma MAR|35.0|   DF|         Reims|\n",
      "+-----------------+-------+----+-----+--------------+\n",
      "only showing top 5 rows\n",
      "\n",
      "+--------------+------------------+\n",
      "|         Squad|              Comp|\n",
      "+--------------+------------------+\n",
      "|   Bournemouth|eng Premier League|\n",
      "|  Union Berlin|     de Bundesliga|\n",
      "|Eint Frankfurt|     de Bundesliga|\n",
      "|     Marseille|        fr Ligue 1|\n",
      "|         Reims|        fr Ligue 1|\n",
      "+--------------+------------------+\n",
      "only showing top 5 rows\n",
      "\n",
      "+-----------------+--------------+---+------+----+---+---+---+---+---+\n",
      "|           Player|         Squad| MP|Starts| Min|Gls|Ast|G+A| xG|xAG|\n",
      "+-----------------+--------------+---+------+----+---+---+---+---+---+\n",
      "|       Max Aarons|   Bournemouth| 20|    13|1237|  0|  1|  1|0.0|0.8|\n",
      "| Brenden Aaronson|  Union Berlin| 30|    14|1267|  2|  2|  4|2.0|1.9|\n",
      "|  Paxten Aaronson|Eint Frankfurt|  7|     1| 101|  0|  1|  1|0.1|0.1|\n",
      "|Keyliane Abdallah|     Marseille|  1|     0|   4|  0|  0|  0|0.0|0.0|\n",
      "| Yunis Abdelhamid|         Reims| 31|    31|2781|  4|  0|  4|3.4|0.3|\n",
      "+-----------------+--------------+---+------+----+---+---+---+---+---+\n",
      "only showing top 5 rows\n",
      "\n"
     ]
    }
   ],
   "source": [
    "from pyspark.sql import SparkSession\n",
    "from pyspark import SparkConf\n",
    "from pyspark.sql.functions import col, sum, row_number\n",
    "from pyspark.sql.window import Window\n",
    "\n",
    "# Spark Configuration\n",
    "sparkConf = SparkConf()\n",
    "sparkConf.setMaster(\"spark://spark-master:7077\")\n",
    "sparkConf.setAppName(\"Top_Attacking_Teams_Pipeline\")\n",
    "sparkConf.set(\"spark.driver.memory\", \"2g\")\n",
    "sparkConf.set(\"spark.executor.cores\", \"1\")\n",
    "sparkConf.set(\"spark.driver.cores\", \"1\")\n",
    "\n",
    "# Create the Spark session\n",
    "spark = SparkSession.builder.config(conf=sparkConf).getOrCreate()\n",
    "\n",
    "# Setup Hadoop configuration for GCS\n",
    "conf = spark.sparkContext._jsc.hadoopConfiguration()\n",
    "conf.set(\"fs.gs.impl\", \"com.google.cloud.hadoop.fs.gcs.GoogleHadoopFileSystem\")\n",
    "conf.set(\"fs.AbstractFileSystem.gs.impl\", \"com.google.cloud.hadoop.fs.gcs.GoogleHadoopFS\")\n",
    "\n",
    "# Load tables into DataFrames\n",
    "playersDF = spark.read.format(\"csv\").option(\"header\", \"true\") \\\n",
    "    .load(\"gs://data_assignment2/players_table.csv\")\n",
    "teamsDF = spark.read.format(\"csv\").option(\"header\", \"true\") \\\n",
    "    .load(\"gs://data_assignment2/teams_table.csv\")\n",
    "performanceDF = spark.read.format(\"csv\").option(\"header\", \"true\") \\\n",
    "    .load(\"gs://data_assignment2/player_performance_table.csv\")\n",
    "\n",
    "# Display initial data\n",
    "playersDF.show(5)\n",
    "teamsDF.show(5)\n",
    "performanceDF.show(5)"
   ]
  },
  {
   "cell_type": "code",
   "execution_count": 2,
   "id": "42c48326-0126-4e2a-bbba-0bb159007919",
   "metadata": {},
   "outputs": [],
   "source": [
    "# Filter and cast relevant columns for analysis\n",
    "performanceDF = performanceDF.select(\"Player\", \"Squad\", \"Gls\").filter(col(\"Gls\").isNotNull())\n",
    "performanceDF = performanceDF.withColumn(\"Gls\", col(\"Gls\").cast(\"int\"))"
   ]
  },
  {
   "cell_type": "code",
   "execution_count": 8,
   "id": "2f42bb3a-2dd1-47db-a0f2-3c66158535f4",
   "metadata": {},
   "outputs": [],
   "source": [
    "# Join performanceDF with teamsDF to include competition (Comp)\n",
    "teamsDF = teamsDF.select(\"Squad\", \"Comp\")  # Keep only relevant columns\n",
    "performanceWithCompDF = performanceDF.join(teamsDF, on=\"Squad\", how=\"inner\")"
   ]
  },
  {
   "cell_type": "code",
   "execution_count": 13,
   "id": "51242123-5eb2-4337-b00e-d8ca38a89516",
   "metadata": {},
   "outputs": [],
   "source": [
    "# Aggregate total goals by Squad and Comp\n",
    "teamStatsDF = performanceWithCompDF.groupBy(\"Squad\", \"Comp\").agg(\n",
    "    sum(\"Gls\").alias(\"Total_Gls\")\n",
    ")"
   ]
  },
  {
   "cell_type": "code",
   "execution_count": 14,
   "id": "c33296d7-925d-4e0b-b052-523d5d37f541",
   "metadata": {},
   "outputs": [
    {
     "data": {
      "text/plain": [
       "[Row(Squad='Reims', Comp='fr Ligue 1', Total_Gls=40),\n",
       " Row(Squad='Milan', Comp='it Serie A', Total_Gls=76),\n",
       " Row(Squad='Marseille', Comp='fr Ligue 1', Total_Gls=50),\n",
       " Row(Squad='Sevilla', Comp='es La Liga', Total_Gls=46),\n",
       " Row(Squad='Real Sociedad', Comp='es La Liga', Total_Gls=48),\n",
       " Row(Squad='Atalanta', Comp='it Serie A', Total_Gls=72),\n",
       " Row(Squad='Köln', Comp='de Bundesliga', Total_Gls=28),\n",
       " Row(Squad='Strasbourg', Comp='fr Ligue 1', Total_Gls=36),\n",
       " Row(Squad='Udinese', Comp='it Serie A', Total_Gls=36),\n",
       " Row(Squad='Cagliari', Comp='it Serie A', Total_Gls=41)]"
      ]
     },
     "execution_count": 14,
     "metadata": {},
     "output_type": "execute_result"
    }
   ],
   "source": [
    "teamStatsDF.head(10)"
   ]
  },
  {
   "cell_type": "code",
   "execution_count": 19,
   "id": "faa75fd7-a462-4847-b9f6-d3157ed75303",
   "metadata": {},
   "outputs": [],
   "source": [
    "# Rank teams globally by Total_Gls\n",
    "teamRankingWindow = Window.orderBy(col(\"Total_Gls\").desc())\n",
    "rankedTeamsDF = teamStatsDF.withColumn(\"Rank\", row_number().over(teamRankingWindow))"
   ]
  },
  {
   "cell_type": "code",
   "execution_count": 25,
   "id": "2c9b5de3-5388-4cf1-b83d-19e23cc4f0b3",
   "metadata": {},
   "outputs": [
    {
     "name": "stdout",
     "output_type": "stream",
     "text": [
      "+---------------+------------------+---------+----+\n",
      "|          Squad|              Comp|Total_Gls|Rank|\n",
      "+---------------+------------------+---------+----+\n",
      "|Manchester City|eng Premier League|       94|   1|\n",
      "|  Bayern Munich|     de Bundesliga|       93|   2|\n",
      "|          Inter|        it Serie A|       87|   3|\n",
      "|     Leverkusen|     de Bundesliga|       87|   4|\n",
      "|        Arsenal|eng Premier League|       86|   5|\n",
      "|    Real Madrid|        es La Liga|       85|   6|\n",
      "|         Girona|        es La Liga|       84|   7|\n",
      "|  Newcastle Utd|eng Premier League|       83|   8|\n",
      "|      Liverpool|eng Premier League|       80|   9|\n",
      "|      Stuttgart|     de Bundesliga|       78|  10|\n",
      "|      Paris S-G|        fr Ligue 1|       78|  11|\n",
      "|          Milan|        it Serie A|       76|  12|\n",
      "|        Chelsea|eng Premier League|       76|  13|\n",
      "|      Barcelona|        es La Liga|       76|  14|\n",
      "|     RB Leipzig|     de Bundesliga|       74|  15|\n",
      "|       Atalanta|        it Serie A|       72|  16|\n",
      "|    Aston Villa|eng Premier League|       72|  17|\n",
      "|      Tottenham|eng Premier League|       69|  18|\n",
      "|       Dortmund|     de Bundesliga|       68|  19|\n",
      "|Atlético Madrid|        es La Liga|       68|  20|\n",
      "+---------------+------------------+---------+----+\n",
      "only showing top 20 rows\n",
      "\n"
     ]
    }
   ],
   "source": [
    "rankedTeamsDF.show(20)\n"
   ]
  },
  {
   "cell_type": "code",
   "execution_count": 27,
   "id": "f189271d-2ad0-4735-96ca-69a59d2450e8",
   "metadata": {},
   "outputs": [],
   "source": [
    "bucket = \"temp_assignment2\"  # Replace with your GCS bucket name\n",
    "spark.conf.set('temporaryGcsBucket', bucket)\n",
    "\n",
    "rankedTeamsDF.write.csv(\"gs://temp_assignment2/best_20_teams.csv\", header=True)\n",
    "# Save to BigQuery\n",
    "rankedTeamsDF.write.format('bigquery') \\\n",
    "  .option('table', 'de-assignment2-group10.Pipeline_team_stats.top_attacking_teams') \\\n",
    "  .mode(\"overwrite\") \\\n",
    "  .save()"
   ]
  },
  {
   "cell_type": "code",
   "execution_count": 28,
   "id": "bdcb786c-fd35-45e2-b1a4-20524cf483ab",
   "metadata": {},
   "outputs": [],
   "source": [
    "# Stop the spark context\n",
    "spark.stop()"
   ]
  },
  {
   "cell_type": "code",
   "execution_count": null,
   "id": "6d3d2339-0847-4ec0-9b10-a91feed9cc8f",
   "metadata": {},
   "outputs": [],
   "source": []
  }
 ],
 "metadata": {
  "kernelspec": {
   "display_name": "Python 3 (ipykernel)",
   "language": "python",
   "name": "python3"
  },
  "language_info": {
   "codemirror_mode": {
    "name": "ipython",
    "version": 3
   },
   "file_extension": ".py",
   "mimetype": "text/x-python",
   "name": "python",
   "nbconvert_exporter": "python",
   "pygments_lexer": "ipython3",
   "version": "3.11.6"
  }
 },
 "nbformat": 4,
 "nbformat_minor": 5
}
